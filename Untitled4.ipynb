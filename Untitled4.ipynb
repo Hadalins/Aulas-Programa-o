{
  "nbformat": 4,
  "nbformat_minor": 0,
  "metadata": {
    "colab": {
      "provenance": [],
      "authorship_tag": "ABX9TyMzgcJEn7oAO01kxvsQWKH2",
      "include_colab_link": true
    },
    "kernelspec": {
      "name": "python3",
      "display_name": "Python 3"
    },
    "language_info": {
      "name": "python"
    }
  },
  "cells": [
    {
      "cell_type": "markdown",
      "metadata": {
        "id": "view-in-github",
        "colab_type": "text"
      },
      "source": [
        "<a href=\"https://colab.research.google.com/github/Hadalins/Aulas-Programa-o/blob/main/Untitled4.ipynb\" target=\"_parent\"><img src=\"https://colab.research.google.com/assets/colab-badge.svg\" alt=\"Open In Colab\"/></a>"
      ]
    },
    {
      "cell_type": "code",
      "execution_count": 5,
      "metadata": {
        "colab": {
          "base_uri": "https://localhost:8080/"
        },
        "id": "xGpr0Bqmw0Bc",
        "outputId": "96fe1ac2-9dab-48d8-f0a7-59ce0176317f"
      },
      "outputs": [
        {
          "output_type": "stream",
          "name": "stdout",
          "text": [
            "Chute um numero entre 0 e 100 :50\n",
            "Chute um numero entre 0 e 50 :30\n",
            "Chute um numero entre 0 e 30 :20\n",
            "Chute um numero entre 0 e 20 :10\n",
            "Chute um numero entre 10 e 20 :13\n",
            "Chute um numero entre 13 e 20 :15\n",
            "ACERTOU, MIZERACE! 6 tentativas\n"
          ]
        }
      ],
      "source": [
        "import random \n",
        "\n",
        "num = random.randrange(101)\n",
        "minimo = 0\n",
        "maximo = 100\n",
        "pitaco = int(input(f'Chute um numero entre {minimo} e {maximo} :'))\n",
        "cont = 1 \n",
        "\n",
        "while (num != pitaco):\n",
        "  if (pitaco > num):\n",
        "    maximo = pitaco\n",
        "  else: \n",
        "    minimo = pitaco\n",
        "  pitaco = int(input(f'Chute um numero entre {minimo} e {maximo} :'))\n",
        "  cont+=1\n",
        "print(f'ACERTOU, MIZERACE! {cont} tentativas')"
      ]
    },
    {
      "cell_type": "code",
      "source": [
        "#Declaração da unção \n",
        "def primeiraFuncao():\n",
        "  print('Minha primeira função, ó! ')\n",
        "\n",
        "#chamando a função \n",
        "primeiraFuncao()"
      ],
      "metadata": {
        "colab": {
          "base_uri": "https://localhost:8080/"
        },
        "id": "bYjszfmo26Wb",
        "outputId": "d07eb782-84ab-45c6-be49-62746cc8948d"
      },
      "execution_count": 8,
      "outputs": [
        {
          "output_type": "stream",
          "name": "stdout",
          "text": [
            "Minha primeira função, ó! \n"
          ]
        }
      ]
    },
    {
      "cell_type": "code",
      "source": [
        "def pronomeTratam(pronome):\n",
        "  print(pronome,\"Hadames \")"
      ],
      "metadata": {
        "id": "m3CTo_ij4YRA"
      },
      "execution_count": 9,
      "outputs": []
    },
    {
      "cell_type": "code",
      "source": [
        "\n",
        "pronomeTratam('Doutor')"
      ],
      "metadata": {
        "colab": {
          "base_uri": "https://localhost:8080/"
        },
        "id": "SA5RmVjs4sYg",
        "outputId": "280ca3e6-8064-444f-c09d-f36fadd8bd77"
      },
      "execution_count": 12,
      "outputs": [
        {
          "output_type": "stream",
          "name": "stdout",
          "text": [
            "Doutor Hadames \n"
          ]
        }
      ]
    },
    {
      "cell_type": "code",
      "source": [
        "def boasVindas(nome, cargo):\n",
        "  print('Olá ' + cargo + '' + nome)"
      ],
      "metadata": {
        "id": "id0P_dbE6puV"
      },
      "execution_count": 18,
      "outputs": []
    },
    {
      "cell_type": "code",
      "source": [],
      "metadata": {
        "id": "n6ftdFw369OM"
      },
      "execution_count": 15,
      "outputs": []
    },
    {
      "cell_type": "code",
      "source": [
        "boasVindas(' Amaralina ', 'Engenheira ')"
      ],
      "metadata": {
        "colab": {
          "base_uri": "https://localhost:8080/"
        },
        "id": "MvxC6veb6-Ld",
        "outputId": "ac1e4a09-47db-4b77-d1a1-7fa3b4091ba8"
      },
      "execution_count": 19,
      "outputs": [
        {
          "output_type": "stream",
          "name": "stdout",
          "text": [
            "Olá Engenheira  Amaralina \n"
          ]
        }
      ]
    },
    {
      "cell_type": "code",
      "source": [
        "def funcaoSemNome(nome, idade):\n",
        "  idade = 2023 - anoNascim\n",
        "  print(nome,  idade)"
      ],
      "metadata": {
        "id": "IMplw-pa7rgx"
      },
      "execution_count": 20,
      "outputs": []
    },
    {
      "cell_type": "code",
      "source": [
        "funcaoSemNome('Hadames ', 1986)"
      ],
      "metadata": {
        "id": "zIFhaCpX8JR0"
      },
      "execution_count": null,
      "outputs": []
    },
    {
      "cell_type": "code",
      "source": [
        "def media(*notas):\n",
        "  soma = 0 \n",
        "  for nota in notas:\n",
        "    soma += nota\n",
        "  print(soma / len(notas))"
      ],
      "metadata": {
        "id": "q3J0o5WF8pF2"
      },
      "execution_count": 27,
      "outputs": []
    },
    {
      "cell_type": "code",
      "source": [
        "media(8, 5, 3, 7, 2, 10)"
      ],
      "metadata": {
        "colab": {
          "base_uri": "https://localhost:8080/"
        },
        "id": "nw5RjtPB99hp",
        "outputId": "02a7fb29-037d-4f56-c265-01dffab96781"
      },
      "execution_count": 28,
      "outputs": [
        {
          "output_type": "stream",
          "name": "stdout",
          "text": [
            "5.833333333333333\n"
          ]
        }
      ]
    },
    {
      "cell_type": "code",
      "source": [
        "def nacionalidade(country = 'Cuba'):\n",
        "  print('Eu nasci em: ' + country )"
      ],
      "metadata": {
        "id": "Chj9mLOlAhmY"
      },
      "execution_count": 29,
      "outputs": []
    },
    {
      "cell_type": "code",
      "source": [
        "nacionalidade()"
      ],
      "metadata": {
        "colab": {
          "base_uri": "https://localhost:8080/"
        },
        "id": "6VPPImfvA2cW",
        "outputId": "72810ce6-0bef-4147-9eaf-612261f5230f"
      },
      "execution_count": 31,
      "outputs": [
        {
          "output_type": "stream",
          "name": "stdout",
          "text": [
            "Eu nasci em: Cuba\n"
          ]
        }
      ]
    },
    {
      "cell_type": "code",
      "source": [
        "def imc(peso, altura):\n",
        "  return peso/altura**2\n",
        "  "
      ],
      "metadata": {
        "id": "RCLcGUlDCrOf"
      },
      "execution_count": 33,
      "outputs": []
    },
    {
      "cell_type": "code",
      "source": [
        "def situacaoPeso(imc):\n",
        "  if(imc < 18.5):\n",
        "    print('Abaixo do peso normal')\n",
        "  elif (imc < 24.9):\n",
        "    print('Peso normal')\n",
        "  else:\n",
        "    print ('Obesidade') "
      ],
      "metadata": {
        "id": "gZLSUsL3DD_t"
      },
      "execution_count": 34,
      "outputs": []
    },
    {
      "cell_type": "code",
      "source": [
        "situacaoPeso(imc(85, 1.73))"
      ],
      "metadata": {
        "colab": {
          "base_uri": "https://localhost:8080/"
        },
        "id": "LVDSSUM3D5aP",
        "outputId": "3d4d10b8-89b9-4211-e1f6-eda13d0e467a"
      },
      "execution_count": 36,
      "outputs": [
        {
          "output_type": "stream",
          "name": "stdout",
          "text": [
            "Obesidade\n"
          ]
        }
      ]
    },
    {
      "cell_type": "code",
      "source": [
        "#a = int(input('Digite um numero: '))\n",
        "#b = int(input('Digite outro numero: '))\n",
        "\n",
        "#soma\n",
        "\n",
        "def soma(a, b ):\n",
        "return a + b \n",
        "\n",
        "#subtracao\n",
        "\n",
        "def sub(a, b ):\n",
        "return a - b\n",
        "\n",
        "#miltiplicacao\n",
        "\n",
        "def vezes(a, b ):\n",
        "return a * b\n",
        "\n",
        "#divisao\n",
        "\n",
        "def dividir(a, b ):\n",
        "return a / b"
      ],
      "metadata": {
        "id": "iBnKwc6WEpq-"
      },
      "execution_count": null,
      "outputs": []
    },
    {
      "cell_type": "code",
      "source": [],
      "metadata": {
        "id": "skdDd1EBFZKe"
      },
      "execution_count": null,
      "outputs": []
    }
  ]
}