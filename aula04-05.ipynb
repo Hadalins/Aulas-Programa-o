{
  "nbformat": 4,
  "nbformat_minor": 0,
  "metadata": {
    "colab": {
      "provenance": [],
      "authorship_tag": "ABX9TyOwxgYukIJS2ZU/BTH1Gxze",
      "include_colab_link": true
    },
    "kernelspec": {
      "name": "python3",
      "display_name": "Python 3"
    },
    "language_info": {
      "name": "python"
    }
  },
  "cells": [
    {
      "cell_type": "markdown",
      "metadata": {
        "id": "view-in-github",
        "colab_type": "text"
      },
      "source": [
        "<a href=\"https://colab.research.google.com/github/Hadalins/Aulas-Programa-o/blob/main/aula04-05.ipynb\" target=\"_parent\"><img src=\"https://colab.research.google.com/assets/colab-badge.svg\" alt=\"Open In Colab\"/></a>"
      ]
    },
    {
      "cell_type": "code",
      "execution_count": 2,
      "metadata": {
        "colab": {
          "base_uri": "https://localhost:8080/"
        },
        "id": "ggJQuNI30f8_",
        "outputId": "f18f9aec-35a8-4b82-b3d5-ef03ee820125"
      },
      "outputs": [
        {
          "output_type": "execute_result",
          "data": {
            "text/plain": [
              "['Zé', 'Tião', 'Joaquim', 'Júlia', 'Ana', ' Zabé', 'Maria']"
            ]
          },
          "metadata": {},
          "execution_count": 2
        }
      ],
      "source": [
        "nomes = [\"Zé\", \"Tião\", \"Joaquim\"]\n",
        "nomes.append('Júlia')\n",
        "nomes\n",
        "\n",
        "#varios valores\n",
        "outrosNomes = ['Ana', ' Zabé', 'Maria']\n",
        "\n",
        "nomes.extend(outrosNomes)\n",
        "\n",
        "nomes\n",
        "\n"
      ]
    },
    {
      "cell_type": "code",
      "source": [
        "#Crie uma lista de numeros \n",
        "numeros = [2, 3, 5, 7, 9, 22]\n",
        "#remova o primeiro numero da lista \n",
        "numeros.remove(numeros[0])\n",
        "#remova o ultimo numero da lista\n",
        "numeros.pop()\n",
        "\n",
        "numeros"
      ],
      "metadata": {
        "colab": {
          "base_uri": "https://localhost:8080/"
        },
        "id": "gEZYaKdA9lWo",
        "outputId": "dd70a60a-7342-49cb-df3d-ed0f3ce2c3c3"
      },
      "execution_count": 5,
      "outputs": [
        {
          "output_type": "execute_result",
          "data": {
            "text/plain": [
              "[3, 5, 7, 9]"
            ]
          },
          "metadata": {},
          "execution_count": 5
        }
      ]
    },
    {
      "cell_type": "code",
      "source": [
        "#cri uma lista de nota, e exiba da menor para maior\n",
        "\n",
        "notas = [1, 8, 10, 9, 2, 4]\n",
        "nomes = ['Ademar', 'maristênio', 'Asdrubal', 'Léo']\n",
        "notas.sort()\n",
        "nomes.sort()\n",
        "nomes.sort(reverse=True)\n",
        "nomes"
      ],
      "metadata": {
        "colab": {
          "base_uri": "https://localhost:8080/"
        },
        "id": "H2xku8Tb_lgv",
        "outputId": "32a0c117-5323-4915-8af2-35ef72e976a1"
      },
      "execution_count": 9,
      "outputs": [
        {
          "output_type": "execute_result",
          "data": {
            "text/plain": [
              "['maristênio', 'Léo', 'Asdrubal', 'Ademar']"
            ]
          },
          "metadata": {},
          "execution_count": 9
        }
      ]
    },
    {
      "cell_type": "code",
      "source": [
        "#Exemplo função map - cria uma nova lista com o dobro \n",
        "\n",
        "numeros = [1, 5, 6, 2, 3, 7]\n",
        "\n",
        "nova_lista = list(map(lambda x : x*2, numeros))\n",
        "nova_lista.sort()\n",
        "nova_lista \n"
      ],
      "metadata": {
        "colab": {
          "base_uri": "https://localhost:8080/"
        },
        "id": "t2zWAHlnCGDc",
        "outputId": "5c0aca09-5971-4bc2-cfa3-bcabfb183a85"
      },
      "execution_count": 18,
      "outputs": [
        {
          "output_type": "execute_result",
          "data": {
            "text/plain": [
              "[2, 4, 6, 10, 12, 14]"
            ]
          },
          "metadata": {},
          "execution_count": 18
        }
      ]
    },
    {
      "cell_type": "code",
      "source": [
        "numDivi = list(map(lambda x : round(x/3, 2 ) , numeros))\n",
        "numDivi "
      ],
      "metadata": {
        "colab": {
          "base_uri": "https://localhost:8080/"
        },
        "id": "AgVhRTe5DNLK",
        "outputId": "494c6345-f7f6-4afb-afd6-6a1702b00f58"
      },
      "execution_count": 21,
      "outputs": [
        {
          "output_type": "execute_result",
          "data": {
            "text/plain": [
              "[0.33, 1.67, 2.0, 0.67, 1.0, 2.33]"
            ]
          },
          "metadata": {},
          "execution_count": 21
        }
      ]
    },
    {
      "cell_type": "code",
      "source": [
        "#Pega cada número e soma 2 \n",
        "numSoma = list(map(lambda x : x+2, numeros ))\n",
        "numSoma"
      ],
      "metadata": {
        "colab": {
          "base_uri": "https://localhost:8080/"
        },
        "id": "sGqBsKIAEDTN",
        "outputId": "2feb45a3-f2e8-435e-bfdf-e61df69d0d7b"
      },
      "execution_count": 19,
      "outputs": [
        {
          "output_type": "execute_result",
          "data": {
            "text/plain": [
              "[3, 7, 8, 4, 5, 9]"
            ]
          },
          "metadata": {},
          "execution_count": 19
        }
      ]
    },
    {
      "cell_type": "code",
      "source": [
        "#Exemplo função Filter - a partir de uma lista de nomes,\n",
        "\n",
        "nomes = ['José', 'Joaquim', 'Sebastião', 'Tião', 'Toin', 'Maria']\n",
        "new_list = list(filter(lambda x : len(x)>5, nomes))\n",
        "new_list"
      ],
      "metadata": {
        "colab": {
          "base_uri": "https://localhost:8080/"
        },
        "id": "H82JMARwE2pD",
        "outputId": "3fa15c24-e4ed-43d0-c55d-b3d19118d935"
      },
      "execution_count": 22,
      "outputs": [
        {
          "output_type": "execute_result",
          "data": {
            "text/plain": [
              "['Joaquim', 'Sebastião']"
            ]
          },
          "metadata": {},
          "execution_count": 22
        }
      ]
    },
    {
      "cell_type": "code",
      "source": [
        "#Crie uma lista de Notas, imprima as maiores que 6\n",
        "\n",
        "notas = [2, 6, 10, 8, 9, 4, 1 ]\n",
        "new_notas = list(filter(lambda x : x >= 6, notas))\n",
        "new_notas"
      ],
      "metadata": {
        "colab": {
          "base_uri": "https://localhost:8080/"
        },
        "id": "6g2F1e7CGGLn",
        "outputId": "10eba98a-378d-40ae-bf7f-37a504ac2885"
      },
      "execution_count": 28,
      "outputs": [
        {
          "output_type": "execute_result",
          "data": {
            "text/plain": [
              "[6, 10, 8, 9]"
            ]
          },
          "metadata": {},
          "execution_count": 28
        }
      ]
    },
    {
      "cell_type": "code",
      "source": [
        "nums = [2, 3, 5, 9, 15, 25, 43]\n",
        "new_nums = list(map(lambda x : x*x, nums ))\n",
        "new_nums "
      ],
      "metadata": {
        "colab": {
          "base_uri": "https://localhost:8080/"
        },
        "id": "4CTZJ1QGIhhI",
        "outputId": "9e7b78ab-e66e-41de-80c7-6206ad1fefc5"
      },
      "execution_count": 29,
      "outputs": [
        {
          "output_type": "execute_result",
          "data": {
            "text/plain": [
              "[4, 9, 25, 81, 225, 625, 1849]"
            ]
          },
          "metadata": {},
          "execution_count": 29
        }
      ]
    },
    {
      "cell_type": "code",
      "source": [
        "nomes = ['josé', 'Toin', 'Zefinha', 'Maria']\n",
        "new_nomes = list(map(lambda x : len(x), nomes))\n",
        "new_nomes"
      ],
      "metadata": {
        "colab": {
          "base_uri": "https://localhost:8080/"
        },
        "id": "pKJi2fQpJcox",
        "outputId": "a199e879-e32c-4b9c-b295-235b4beeb5ad"
      },
      "execution_count": 31,
      "outputs": [
        {
          "output_type": "execute_result",
          "data": {
            "text/plain": [
              "[4, 4, 7, 5]"
            ]
          },
          "metadata": {},
          "execution_count": 31
        }
      ]
    },
    {
      "cell_type": "code",
      "source": [
        "numeros = [2, 3, 6, 5, 8 ]\n",
        "numerosPares = list(filter(lambda x : x%2==0, numeros))\n",
        "numerosPares"
      ],
      "metadata": {
        "colab": {
          "base_uri": "https://localhost:8080/"
        },
        "id": "wrCYGvjoKbi_",
        "outputId": "fa8d8638-c284-44cd-b909-210ac702ca46"
      },
      "execution_count": 34,
      "outputs": [
        {
          "output_type": "execute_result",
          "data": {
            "text/plain": [
              "[2, 6, 8]"
            ]
          },
          "metadata": {},
          "execution_count": 34
        }
      ]
    },
    {
      "cell_type": "code",
      "source": [
        "from posixpath import split\n",
        "nomes = ['josé', 'Toin', 'Adriana', 'Zefinha', 'Ademar', 'Maria']\n",
        "nomesA = list(filter(lambda x : split(x), nomes))\n",
        "nomesA"
      ],
      "metadata": {
        "colab": {
          "base_uri": "https://localhost:8080/"
        },
        "id": "_x2oL1JKLNot",
        "outputId": "d5b198ba-7e92-4c33-ca54-21c344a80195"
      },
      "execution_count": 45,
      "outputs": [
        {
          "output_type": "execute_result",
          "data": {
            "text/plain": [
              "['josé', 'Toin', 'Adriana', 'Zefinha', 'Ademar', 'Maria']"
            ]
          },
          "metadata": {},
          "execution_count": 45
        }
      ]
    },
    {
      "cell_type": "code",
      "source": [
        "notas = [ 7.3, 9.0, 3.5, 4.0, 10.0, 8.5 ]\n",
        "aprovados = list(filter(lambda x : x>=7, notas))\n",
        "aprovados"
      ],
      "metadata": {
        "colab": {
          "base_uri": "https://localhost:8080/"
        },
        "id": "791A_zr4OLLd",
        "outputId": "5097402f-acf9-40e3-cde1-111740f5ecb2"
      },
      "execution_count": 46,
      "outputs": [
        {
          "output_type": "execute_result",
          "data": {
            "text/plain": [
              "[7.3, 9.0, 10.0, 8.5]"
            ]
          },
          "metadata": {},
          "execution_count": 46
        }
      ]
    },
    {
      "cell_type": "code",
      "source": [
        "nomes = ['josé', 'Toin', 'Adriana', 'Zefinha', 'Ademar', 'Maria']"
      ],
      "metadata": {
        "id": "P0f1Ui09O2ux"
      },
      "execution_count": null,
      "outputs": []
    }
  ]
}