{
  "nbformat": 4,
  "nbformat_minor": 0,
  "metadata": {
    "colab": {
      "provenance": [],
      "authorship_tag": "ABX9TyNdpeeLlWPnjpwH0arKWpHf",
      "include_colab_link": true
    },
    "kernelspec": {
      "name": "python3",
      "display_name": "Python 3"
    },
    "language_info": {
      "name": "python"
    }
  },
  "cells": [
    {
      "cell_type": "markdown",
      "metadata": {
        "id": "view-in-github",
        "colab_type": "text"
      },
      "source": [
        "<a href=\"https://colab.research.google.com/github/Hadalins/Aulas-Programa-o/blob/main/aula%2001-06.ipynb\" target=\"_parent\"><img src=\"https://colab.research.google.com/assets/colab-badge.svg\" alt=\"Open In Colab\"/></a>"
      ]
    },
    {
      "cell_type": "code",
      "execution_count": 1,
      "metadata": {
        "colab": {
          "base_uri": "https://localhost:8080/"
        },
        "id": "iXQHCWdQGpQf",
        "outputId": "eb2b0397-930d-43a6-b2cd-91c5fbc62985"
      },
      "outputs": [
        {
          "output_type": "execute_result",
          "data": {
            "text/plain": [
              "{'André': 8.5,\n",
              " 'Ana': 7.0,\n",
              " 'Chico': 6.5,\n",
              " 'Nubia': 10,\n",
              " 'Luana': 8,\n",
              " 'Julia': 5.5,\n",
              " 'aristides': 6.0,\n",
              " 'Sebastiana': 9.5,\n",
              " 'Camila': 10,\n",
              " 'João': 9.0}"
            ]
          },
          "metadata": {},
          "execution_count": 1
        }
      ],
      "source": [
        "provaA ={'André':8.5,'Ana':7.0,'Chico':6.5,'Nubia':10,'Luana':8 }\n",
        "provaB ={'Julia':5.5, 'aristides':6.0,'Sebastiana':9.5, 'Camila':10, 'João':9.0}\n",
        "resultado_final= {} #novo dicionário resultado_final\n",
        "resultado_final.update(provaA)\n",
        "resultado_final.update(provaB)\n",
        "resultado_final"
      ]
    },
    {
      "cell_type": "code",
      "source": [
        "sorted(resultado_final, key= resultado_final.get, reverse= True)"
      ],
      "metadata": {
        "colab": {
          "base_uri": "https://localhost:8080/"
        },
        "id": "nOHSC0oYJcZn",
        "outputId": "275d23d2-aaaf-43c4-d9e5-e3f14e159275"
      },
      "execution_count": 4,
      "outputs": [
        {
          "output_type": "execute_result",
          "data": {
            "text/plain": [
              "['Nubia',\n",
              " 'Camila',\n",
              " 'Sebastiana',\n",
              " 'João',\n",
              " 'André',\n",
              " 'Luana',\n",
              " 'Ana',\n",
              " 'Chico',\n",
              " 'aristides',\n",
              " 'Julia']"
            ]
          },
          "metadata": {},
          "execution_count": 4
        }
      ]
    },
    {
      "cell_type": "code",
      "source": [
        "sorted(resultado_final, key= resultado_final.items())"
      ],
      "metadata": {
        "id": "g0ebZcAUKowm"
      },
      "execution_count": null,
      "outputs": []
    },
    {
      "cell_type": "code",
      "source": [
        "listaCandidatos = list(resultado_final.keys())\n",
        "listaCandidatos "
      ],
      "metadata": {
        "colab": {
          "base_uri": "https://localhost:8080/"
        },
        "id": "kKZh-e6cLmIN",
        "outputId": "bbdec391-394d-497f-cdf9-9f596fc7dcbb"
      },
      "execution_count": 6,
      "outputs": [
        {
          "output_type": "execute_result",
          "data": {
            "text/plain": [
              "['André',\n",
              " 'Ana',\n",
              " 'Chico',\n",
              " 'Nubia',\n",
              " 'Luana',\n",
              " 'Julia',\n",
              " 'aristides',\n",
              " 'Sebastiana',\n",
              " 'Camila',\n",
              " 'João']"
            ]
          },
          "metadata": {},
          "execution_count": 6
        }
      ]
    },
    {
      "cell_type": "code",
      "source": [
        "listaNotas= list(resultado_final.values())\n",
        "listaNotas"
      ],
      "metadata": {
        "colab": {
          "base_uri": "https://localhost:8080/"
        },
        "id": "_u5NOvj8MTS0",
        "outputId": "fa60e565-1922-4be9-a442-3730c3a66fb0"
      },
      "execution_count": 7,
      "outputs": [
        {
          "output_type": "execute_result",
          "data": {
            "text/plain": [
              "[8.5, 7.0, 6.5, 10, 8, 5.5, 6.0, 9.5, 10, 9.0]"
            ]
          },
          "metadata": {},
          "execution_count": 7
        }
      ]
    },
    {
      "cell_type": "code",
      "source": [
        "nome= input('Digite o nome: ')\n",
        "if (nome == resultado_final):\n",
        "  resultado_final.value()\n",
        "else: \n",
        " print (Candidato inexistente)\n"
      ],
      "metadata": {
        "id": "BdW7TRP1NAuK"
      },
      "execution_count": null,
      "outputs": []
    },
    {
      "cell_type": "code",
      "source": [],
      "metadata": {
        "id": "iMPwWtVmQu8x"
      },
      "execution_count": null,
      "outputs": []
    }
  ]
}