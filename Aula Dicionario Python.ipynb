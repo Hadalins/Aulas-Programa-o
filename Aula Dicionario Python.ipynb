{
  "nbformat": 4,
  "nbformat_minor": 0,
  "metadata": {
    "colab": {
      "provenance": [],
      "authorship_tag": "ABX9TyM71GmHOHvcABRo2RrhCR2b",
      "include_colab_link": true
    },
    "kernelspec": {
      "name": "python3",
      "display_name": "Python 3"
    },
    "language_info": {
      "name": "python"
    }
  },
  "cells": [
    {
      "cell_type": "markdown",
      "metadata": {
        "id": "view-in-github",
        "colab_type": "text"
      },
      "source": [
        "<a href=\"https://colab.research.google.com/github/Hadalins/Aulas-Programa-o/blob/main/Aula%20Dicionario%20Python.ipynb\" target=\"_parent\"><img src=\"https://colab.research.google.com/assets/colab-badge.svg\" alt=\"Open In Colab\"/></a>"
      ]
    },
    {
      "cell_type": "code",
      "execution_count": 1,
      "metadata": {
        "colab": {
          "base_uri": "https://localhost:8080/"
        },
        "id": "oZQ6QR8WFaol",
        "outputId": "b77ab338-2bf7-47b8-8e90-910e67cd9846"
      },
      "outputs": [
        {
          "output_type": "execute_result",
          "data": {
            "text/plain": [
              "{'Ostervaldo': 'oster@email.com',\n",
              " 'Maristênio': 'marist@email.com',\n",
              " 'Leroiane': 'lero@email.com',\n",
              " 'Jozezin': ['zezin@exemplo.com', 'zemane@xemple.com']}"
            ]
          },
          "metadata": {},
          "execution_count": 1
        }
      ],
      "source": [
        "contatos = {\n",
        "    'Ostervaldo' : 'oster@email.com',\n",
        "    'Maristênio' : 'marist@email.com',\n",
        "    'Leroiane' : 'lero@email.com', \n",
        "    'Jozezin' : ['zezin@exemplo.com', 'zemane@xemple.com']\n",
        "}\n",
        "\n",
        "contatos\n",
        "     "
      ]
    },
    {
      "cell_type": "code",
      "source": [
        "contatos['Evilasio'] = 'evi@exemplo.com'\n",
        "contatos"
      ],
      "metadata": {
        "colab": {
          "base_uri": "https://localhost:8080/"
        },
        "id": "IakZDOTIId4G",
        "outputId": "050f7e5e-1e83-4303-a51f-587bec367692"
      },
      "execution_count": 6,
      "outputs": [
        {
          "output_type": "execute_result",
          "data": {
            "text/plain": [
              "{'Ostervaldo': 'oster@email.com',\n",
              " 'Maristênio': 'marist@email.com',\n",
              " 'Leroiane': 'lero@email.com',\n",
              " 'Jozezin': ['zezin@exemplo.com', 'zemane@xemple.com'],\n",
              " 'Evilasio': 'evi@exemplo.com'}"
            ]
          },
          "metadata": {},
          "execution_count": 6
        }
      ]
    },
    {
      "cell_type": "code",
      "source": [
        "#adição por concatenação \n",
        "contacts = {'Astrovaldo' :'astro@exemplo.com',\n",
        "            'vaginalva' : 'nalva@exemplo.com',\n",
        "\n",
        "}\n",
        "contatos.update(contacts)\n",
        "contatos"
      ],
      "metadata": {
        "colab": {
          "base_uri": "https://localhost:8080/"
        },
        "id": "a-LacGigJGK9",
        "outputId": "0f70d3a3-8aa7-41c8-ad92-d95f6a0b29cd"
      },
      "execution_count": 10,
      "outputs": [
        {
          "output_type": "execute_result",
          "data": {
            "text/plain": [
              "{'Ostervaldo': 'oster@email.com',\n",
              " 'Maristênio': 'marist@email.com',\n",
              " 'Leroiane': 'lero@email.com',\n",
              " 'Jozezin': ['zezin@exemplo.com', 'zeh@ez.com'],\n",
              " 'Evilasio': 'evi@exemplo.com',\n",
              " 'Astrovaldo': 'astro@exemplo.com',\n",
              " 'vaginalva': 'nalva@exemplo.com'}"
            ]
          },
          "metadata": {},
          "execution_count": 10
        }
      ]
    },
    {
      "cell_type": "code",
      "source": [
        "contatos.items()"
      ],
      "metadata": {
        "colab": {
          "base_uri": "https://localhost:8080/"
        },
        "id": "b4oLtRAtPTQF",
        "outputId": "cac1252d-9f01-40ca-fc1f-4bddb6094c77"
      },
      "execution_count": 12,
      "outputs": [
        {
          "output_type": "execute_result",
          "data": {
            "text/plain": [
              "dict_items([('Ostervaldo', 'oster@email.com'), ('Maristênio', 'marist@email.com'), ('Leroiane', 'lero@email.com'), ('Jozezin', ['zezin@exemplo.com', 'zeh@ez.com']), ('Evilasio', 'evi@exemplo.com'), ('Astrovaldo', 'astro@exemplo.com'), ('vaginalva', 'nalva@exemplo.com')])"
            ]
          },
          "metadata": {},
          "execution_count": 12
        }
      ]
    },
    {
      "cell_type": "code",
      "source": [
        "#metodos úteis keys(), values\n",
        "contatos.keys()"
      ],
      "metadata": {
        "colab": {
          "base_uri": "https://localhost:8080/"
        },
        "id": "2sf5wwyUPbo5",
        "outputId": "c4a90a5e-2743-4740-c058-e542641b0fee"
      },
      "execution_count": 13,
      "outputs": [
        {
          "output_type": "execute_result",
          "data": {
            "text/plain": [
              "dict_keys(['Ostervaldo', 'Maristênio', 'Leroiane', 'Jozezin', 'Evilasio', 'Astrovaldo', 'vaginalva'])"
            ]
          },
          "metadata": {},
          "execution_count": 13
        }
      ]
    },
    {
      "cell_type": "code",
      "source": [
        "#Ordenar da maior nota para a menor \n",
        "curso = {'Alice': 8.5, 'Tiago': 7.0,\n",
        "         'Chico': 6.5, 'Nubia': 10 }\n",
        "#quem obteve a maior nota? \n",
        "max(curso, key = curso.get)"
      ],
      "metadata": {
        "colab": {
          "base_uri": "https://localhost:8080/",
          "height": 35
        },
        "id": "uM8FsdLTQRfk",
        "outputId": "74f0f71b-bc1f-47b9-f172-a6ae05f40c8b"
      },
      "execution_count": 20,
      "outputs": [
        {
          "output_type": "execute_result",
          "data": {
            "text/plain": [
              "'Nubia'"
            ],
            "application/vnd.google.colaboratory.intrinsic+json": {
              "type": "string"
            }
          },
          "metadata": {},
          "execution_count": 20
        }
      ]
    },
    {
      "cell_type": "code",
      "source": [
        "min(curso, key = curso.get)"
      ],
      "metadata": {
        "colab": {
          "base_uri": "https://localhost:8080/",
          "height": 35
        },
        "id": "dvoKn1FfR3oe",
        "outputId": "f2e54dd5-7e32-46a7-b43a-60615c304bd8"
      },
      "execution_count": 21,
      "outputs": [
        {
          "output_type": "execute_result",
          "data": {
            "text/plain": [
              "'Chico'"
            ],
            "application/vnd.google.colaboratory.intrinsic+json": {
              "type": "string"
            }
          },
          "metadata": {},
          "execution_count": 21
        }
      ]
    },
    {
      "cell_type": "code",
      "source": [
        "sorted(curso, key = curso.get)"
      ],
      "metadata": {
        "colab": {
          "base_uri": "https://localhost:8080/"
        },
        "id": "qpzXMT45TdQc",
        "outputId": "776e2dcb-45db-4c68-8d85-32288708f4c7"
      },
      "execution_count": 23,
      "outputs": [
        {
          "output_type": "execute_result",
          "data": {
            "text/plain": [
              "['Chico', 'Tiago', 'Alice', 'Nubia']"
            ]
          },
          "metadata": {},
          "execution_count": 23
        }
      ]
    },
    {
      "cell_type": "code",
      "source": [
        "sorted(curso, key = curso.get, reverse=True)"
      ],
      "metadata": {
        "colab": {
          "base_uri": "https://localhost:8080/"
        },
        "id": "tJIJu9JPTzJD",
        "outputId": "c3a4bb9a-fbb0-4414-edd3-53a6ac27b2ec"
      },
      "execution_count": 24,
      "outputs": [
        {
          "output_type": "execute_result",
          "data": {
            "text/plain": [
              "['Nubia', 'Alice', 'Tiago', 'Chico']"
            ]
          },
          "metadata": {},
          "execution_count": 24
        }
      ]
    },
    {
      "cell_type": "code",
      "source": [
        "contatos['Jozezin'][1] = 'zeh@ez.com'"
      ],
      "metadata": {
        "id": "5rj5gp5MLJY0"
      },
      "execution_count": 9,
      "outputs": []
    },
    {
      "cell_type": "code",
      "source": [
        "#criar\n",
        "lutas = {}\n",
        "lutas"
      ],
      "metadata": {
        "id": "MeRIAxesFpoz"
      },
      "execution_count": null,
      "outputs": []
    },
    {
      "cell_type": "code",
      "source": [
        "#criar\n",
        "lutadores = [\n",
        "    {\n",
        "        \"nome\" :'Chimbronildo Robscraldio',\n",
        "        \"categoria\" : \"Meio médio\",\n",
        "        \"envergadura\" : 2 \n",
        "    },\n",
        "     {\n",
        "        \"nome\" :'Lucivladson Stenioval',\n",
        "        \"categoria\" : \"Galo\",\n",
        "        \"envergadura\" : 2 \n",
        "    }\n",
        "]\n",
        "lutadores\n"
      ],
      "metadata": {
        "colab": {
          "base_uri": "https://localhost:8080/"
        },
        "id": "8QeyU1DaGlcg",
        "outputId": "15bcc643-fc16-4421-a5fd-051e2d6ef194"
      },
      "execution_count": 5,
      "outputs": [
        {
          "output_type": "execute_result",
          "data": {
            "text/plain": [
              "[{'nome': 'Chimbronildo Robscraldio',\n",
              "  'categoria': 'Meio médio',\n",
              "  'envergadura': 2},\n",
              " {'nome': 'Lucivladson Stenioval', 'categoria': 'Galo', 'envergadura': 2}]"
            ]
          },
          "metadata": {},
          "execution_count": 5
        }
      ]
    },
    {
      "cell_type": "code",
      "source": [
        "#O dicionário a seguir contém uma relação de atletas e seus respectivos tempos em uma corrida de 100 metros. \n",
        "#corrida 100m = {'Zé': 10, 'marco': 9.9, 'Marta': 9.98, 'Lourdes': 10.2}\n",
        "\n",
        "corredores = {'Zé': 10, 'marco': 9.9, 'Marta': 9.98, 'Lourdes': 10.2}\n",
        "\n",
        "corredores\n",
        "\n"
      ],
      "metadata": {
        "colab": {
          "base_uri": "https://localhost:8080/"
        },
        "id": "UAp5VQzNUTu7",
        "outputId": "8b44b77e-6f39-47a9-c795-e9af9222fc69"
      },
      "execution_count": 29,
      "outputs": [
        {
          "output_type": "execute_result",
          "data": {
            "text/plain": [
              "{'Zé': 10, 'marco': 9.9, 'Marta': 9.98, 'Lourdes': 10.2}"
            ]
          },
          "metadata": {},
          "execution_count": 29
        }
      ]
    },
    {
      "cell_type": "code",
      "source": [
        "max(corredores, key=corredores.get)"
      ],
      "metadata": {
        "colab": {
          "base_uri": "https://localhost:8080/",
          "height": 35
        },
        "id": "jIfHu2IJV3rx",
        "outputId": "67d4fee5-e09b-4ef2-a3ea-8adffd1f5a62"
      },
      "execution_count": 32,
      "outputs": [
        {
          "output_type": "execute_result",
          "data": {
            "text/plain": [
              "'Lourdes'"
            ],
            "application/vnd.google.colaboratory.intrinsic+json": {
              "type": "string"
            }
          },
          "metadata": {},
          "execution_count": 32
        }
      ]
    },
    {
      "cell_type": "code",
      "source": [
        "min(corredores, key = corredores.get)"
      ],
      "metadata": {
        "colab": {
          "base_uri": "https://localhost:8080/",
          "height": 35
        },
        "id": "37esMa8pV4Px",
        "outputId": "46f92368-27dd-4a4f-d68a-03aac391a253"
      },
      "execution_count": 34,
      "outputs": [
        {
          "output_type": "execute_result",
          "data": {
            "text/plain": [
              "'marco'"
            ],
            "application/vnd.google.colaboratory.intrinsic+json": {
              "type": "string"
            }
          },
          "metadata": {},
          "execution_count": 34
        }
      ]
    },
    {
      "cell_type": "code",
      "source": [
        "\n",
        "sorted(corredores, key = corredores.get, reverse=True)"
      ],
      "metadata": {
        "colab": {
          "base_uri": "https://localhost:8080/"
        },
        "id": "D_d3ngqmVv9K",
        "outputId": "4738d243-4392-420a-abaf-de90998dbc12"
      },
      "execution_count": 35,
      "outputs": [
        {
          "output_type": "execute_result",
          "data": {
            "text/plain": [
              "['Lourdes', 'Zé', 'Marta', 'marco']"
            ]
          },
          "metadata": {},
          "execution_count": 35
        }
      ]
    }
  ]
}