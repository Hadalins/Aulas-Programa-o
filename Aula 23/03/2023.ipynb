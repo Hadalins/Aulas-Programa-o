{
  "nbformat": 4,
  "nbformat_minor": 0,
  "metadata": {
    "colab": {
      "provenance": [],
      "authorship_tag": "ABX9TyNiX4g9xxGPB7RyqK0NSkn6",
      "include_colab_link": true
    },
    "kernelspec": {
      "name": "python3",
      "display_name": "Python 3"
    },
    "language_info": {
      "name": "python"
    }
  },
  "cells": [
    {
      "cell_type": "markdown",
      "metadata": {
        "id": "view-in-github",
        "colab_type": "text"
      },
      "source": [
        "<a href=\"https://colab.research.google.com/github/Hadalins/Aulas-Programa-o/blob/main/Aula%2023/03/2023.ipynb\" target=\"_parent\"><img src=\"https://colab.research.google.com/assets/colab-badge.svg\" alt=\"Open In Colab\"/></a>"
      ]
    },
    {
      "cell_type": "code",
      "execution_count": 5,
      "metadata": {
        "colab": {
          "base_uri": "https://localhost:8080/"
        },
        "id": "7Ie0eEB3xA_K",
        "outputId": "e40ba626-ce6d-4700-d04f-ceda1823af63"
      },
      "outputs": [
        {
          "output_type": "stream",
          "name": "stdout",
          "text": [
            "Digite um numero: 23\n",
            "O numero é par \n"
          ]
        }
      ],
      "source": [
        "#Verificar se um numero é par \n",
        "num = int(input('Digite um numero: '))\n",
        "if (num%2 == 0):\n",
        "  print('O numero é par ')\n",
        "else:\n",
        "    print('O numero é impar ')"
      ]
    },
    {
      "cell_type": "code",
      "source": [
        "#Solicita a altura e o peso de alguém, e retorna o IMC\n",
        "#IMC + peso / altura**2\n",
        "\n",
        "\n",
        "peso = float(input('Digite seu peso! '))\n",
        "altura = float(input('Digite sua altura! '))\n",
        "imc = peso /(altura**2)\n",
        "print('O seu IMC é: ', imc)\n"
      ],
      "metadata": {
        "colab": {
          "base_uri": "https://localhost:8080/"
        },
        "id": "v_gqbZO6xUD0",
        "outputId": "851188bf-8c7c-490a-e6a7-04841a632038"
      },
      "execution_count": 12,
      "outputs": [
        {
          "output_type": "stream",
          "name": "stdout",
          "text": [
            "Digite seu peso! 86\n",
            "Digite sua altura! 1.73\n",
            "O seu IMC é:  28.734672057202044\n"
          ]
        }
      ]
    },
    {
      "cell_type": "code",
      "source": [
        "#Em um campeonato MMA, tem 3 categorias por peso\n",
        "#galo até 70kg\n",
        "#médio até 80 kg\n",
        "#meio pesado 90 kg\n",
        "peso = float(input('Digite o peso do Atleta: ')) \n",
        "if(peso <= 70):\n",
        "  print('Galo')\n",
        "elif(peso <= 80):\n",
        "  print('Médio') \n",
        "else: \n",
        "  print('Meio Pesado')  "
      ],
      "metadata": {
        "colab": {
          "base_uri": "https://localhost:8080/"
        },
        "id": "MxHa8HVDyaP4",
        "outputId": "87e0791f-da0b-4172-b22b-033867ce0c4d"
      },
      "execution_count": 15,
      "outputs": [
        {
          "output_type": "stream",
          "name": "stdout",
          "text": [
            "Digite o peso do Atleta: 90\n",
            "Meio Pesado\n"
          ]
        }
      ]
    },
    {
      "cell_type": "code",
      "source": [
        "peso = float(input('Digite seu peso! '))\n",
        "altura = float(input('Digite sua altura! '))\n",
        "imc = peso /(altura**2)\n",
        "print('O seu IMC é: ', round(imc, 2 ))\n",
        "if(imc < 18.5):\n",
        "  print('Abaixo do Peso Normal')\n",
        "elif(imc < 25):\n",
        "  print('Peso Normal')\n",
        "elif(imc < 30):\n",
        "  print('Excesso de Peso')\n",
        "elif(imc < 35):\n",
        "  print('Obesidade Classe I')\n",
        "elif(imc < 40):\n",
        "  print('Obesidade Classe II') \n",
        "else: \n",
        "  print('Obesidade Classe III') \n"
      ],
      "metadata": {
        "colab": {
          "base_uri": "https://localhost:8080/"
        },
        "id": "rvXybBli1eGm",
        "outputId": "c9216ed3-b06d-4d2a-fdf1-54c79657e1e9"
      },
      "execution_count": 20,
      "outputs": [
        {
          "output_type": "stream",
          "name": "stdout",
          "text": [
            "Digite seu peso! 115\n",
            "Digite sua altura! 1.69\n",
            "O seu IMC é:  40.26\n",
            "Obesidade Classe III\n"
          ]
        }
      ]
    }
  ]
}