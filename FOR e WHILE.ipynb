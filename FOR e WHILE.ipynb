{
  "nbformat": 4,
  "nbformat_minor": 0,
  "metadata": {
    "colab": {
      "provenance": [],
      "authorship_tag": "ABX9TyN38nHQxSDab4ByKPvhB77x",
      "include_colab_link": true
    },
    "kernelspec": {
      "name": "python3",
      "display_name": "Python 3"
    },
    "language_info": {
      "name": "python"
    }
  },
  "cells": [
    {
      "cell_type": "markdown",
      "metadata": {
        "id": "view-in-github",
        "colab_type": "text"
      },
      "source": [
        "<a href=\"https://colab.research.google.com/github/Hadalins/Aulas-Programa-o/blob/main/FOR%20e%20WHILE.ipynb\" target=\"_parent\"><img src=\"https://colab.research.google.com/assets/colab-badge.svg\" alt=\"Open In Colab\"/></a>"
      ]
    },
    {
      "cell_type": "code",
      "execution_count": 1,
      "metadata": {
        "id": "f2AI-NDar_Io"
      },
      "outputs": [],
      "source": [
        "objetos = ['faca', 'tesoura', 'chave', 'livro', 'caneta', 'copo']"
      ]
    },
    {
      "cell_type": "code",
      "source": [
        "#Laço FOR\n",
        "for objeto in objetos :\n",
        "  print(objeto)"
      ],
      "metadata": {
        "colab": {
          "base_uri": "https://localhost:8080/"
        },
        "id": "WQsO6rUlsV0j",
        "outputId": "5ba0d604-da1a-460d-ec9a-6780de6cbd5d"
      },
      "execution_count": 2,
      "outputs": [
        {
          "output_type": "stream",
          "name": "stdout",
          "text": [
            "faca\n",
            "tesoura\n",
            "chave\n",
            "livro\n",
            "caneta\n",
            "copo\n"
          ]
        }
      ]
    },
    {
      "cell_type": "code",
      "source": [
        "#Crie uma lista com 5 numeros em sequência \n",
        "nums = ]1, 2, 3, 4, 5]"
      ],
      "metadata": {
        "id": "gLR2_fQ-tFcA"
      },
      "execution_count": null,
      "outputs": []
    },
    {
      "cell_type": "code",
      "source": [
        "numeros = []\n",
        "for num in range(15):\n",
        "  numeros.append(num)\n",
        "numeros\n",
        "\n"
      ],
      "metadata": {
        "colab": {
          "base_uri": "https://localhost:8080/"
        },
        "id": "Sn27T_Y2tgcB",
        "outputId": "0bf847cb-0588-4334-abc6-efefe3ff68f1"
      },
      "execution_count": 11,
      "outputs": [
        {
          "output_type": "execute_result",
          "data": {
            "text/plain": [
              "[0, 1, 2, 3, 4, 5, 6, 7, 8, 9, 10, 11, 12, 13, 14]"
            ]
          },
          "metadata": {},
          "execution_count": 11
        }
      ]
    },
    {
      "cell_type": "code",
      "source": [
        "#Criar lista com tamanho aleatorio (entre 0, 50)\n",
        "import random\n",
        "\n",
        "nums = []\n",
        "for num2 in range(random.randrange(0,50)):\n",
        "  nums.append(num2)\n",
        "\n",
        "nums"
      ],
      "metadata": {
        "id": "QiIj5TP6wS1j"
      },
      "execution_count": null,
      "outputs": []
    },
    {
      "cell_type": "code",
      "source": [
        "a = int(input('Digite um numero'))\n",
        "if a%2 == 0:\n",
        "  print('É par')\n",
        "else:\n",
        "  print('É impar')"
      ],
      "metadata": {
        "id": "AdZAJ7V6y6Af"
      },
      "execution_count": null,
      "outputs": []
    },
    {
      "cell_type": "code",
      "source": [
        "numeros = []\n",
        "for num in range(51):   \n",
        "  if(num % 2 == 0):\n",
        "    numeros.append(num)\n",
        "print(numeros) "
      ],
      "metadata": {
        "id": "kKqw9N1C1ELd"
      },
      "execution_count": null,
      "outputs": []
    },
    {
      "cell_type": "code",
      "source": [
        "#Retorne a soma dos numeros de 1 a 100 \n",
        "\n",
        "soma = 0 \n",
        "for n in range(101):\n",
        "  soma = soma+n\n",
        "\n",
        "soma\n",
        "        "
      ],
      "metadata": {
        "colab": {
          "base_uri": "https://localhost:8080/"
        },
        "id": "LtwNAJOK3jXM",
        "outputId": "63efabf3-8ece-41ad-9c33-ed0dedee4b66"
      },
      "execution_count": 47,
      "outputs": [
        {
          "output_type": "execute_result",
          "data": {
            "text/plain": [
              "5050"
            ]
          },
          "metadata": {},
          "execution_count": 47
        }
      ]
    },
    {
      "cell_type": "code",
      "source": [
        "#criar um programa que lista os numeros de 1 a 10\n",
        "#Precisamos de um contador\n",
        "\n",
        "cont = 0 \n",
        "while (cont < 10):\n",
        "  print (cont + 1)\n",
        "  cont+=1"
      ],
      "metadata": {
        "colab": {
          "base_uri": "https://localhost:8080/"
        },
        "id": "D0jXJCm98tSS",
        "outputId": "9c713447-5458-45f7-9e3d-cbdb78f9e2a1"
      },
      "execution_count": 48,
      "outputs": [
        {
          "output_type": "stream",
          "name": "stdout",
          "text": [
            "1\n",
            "2\n",
            "3\n",
            "4\n",
            "5\n",
            "6\n",
            "7\n",
            "8\n",
            "9\n",
            "10\n"
          ]
        }
      ]
    },
    {
      "cell_type": "code",
      "source": [
        "numero = 0 \n",
        "n = int(input('digite um numero'))\n",
        "while (numero <= n):\n",
        "  print(numero)\n",
        "  numero+=1"
      ],
      "metadata": {
        "colab": {
          "base_uri": "https://localhost:8080/"
        },
        "id": "PxFg03Jv-swN",
        "outputId": "c029f048-9022-47b6-b7c3-bf5db1dcb30e"
      },
      "execution_count": 61,
      "outputs": [
        {
          "output_type": "stream",
          "name": "stdout",
          "text": [
            "digite um numero30\n",
            "0\n",
            "1\n",
            "2\n",
            "3\n",
            "4\n",
            "5\n",
            "6\n",
            "7\n",
            "8\n",
            "9\n",
            "10\n",
            "11\n",
            "12\n",
            "13\n",
            "14\n",
            "15\n",
            "16\n",
            "17\n",
            "18\n",
            "19\n",
            "20\n",
            "21\n",
            "22\n",
            "23\n",
            "24\n",
            "25\n",
            "26\n",
            "27\n",
            "28\n",
            "29\n",
            "30\n"
          ]
        }
      ]
    },
    {
      "cell_type": "code",
      "source": [
        "#Criar lista de compras onde quando aperto o numero 0 finaliza a lista\n",
        "compras = []\n",
        "item = input('Digite qual produto adicionar: ')\n",
        "while (item != '0'):\n",
        "  compras.append(item)\n",
        "  item = input('Digite qual produto adicionar: ')\n",
        "\n",
        "compras  \n",
        "\n",
        "\n"
      ],
      "metadata": {
        "colab": {
          "base_uri": "https://localhost:8080/"
        },
        "id": "Uq3LU9SBCUev",
        "outputId": "93f6f6c2-2146-48d5-d49d-8229e29a05af"
      },
      "execution_count": 67,
      "outputs": [
        {
          "name": "stdout",
          "output_type": "stream",
          "text": [
            "Digite qual produto adicionar: 0\n"
          ]
        },
        {
          "output_type": "execute_result",
          "data": {
            "text/plain": [
              "[]"
            ]
          },
          "metadata": {},
          "execution_count": 67
        }
      ]
    }
  ]
}