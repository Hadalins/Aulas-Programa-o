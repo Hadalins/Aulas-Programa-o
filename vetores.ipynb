{
  "nbformat": 4,
  "nbformat_minor": 0,
  "metadata": {
    "colab": {
      "provenance": [],
      "authorship_tag": "ABX9TyOD2vrKHhoP9cj9XbzpRr93",
      "include_colab_link": true
    },
    "kernelspec": {
      "name": "python3",
      "display_name": "Python 3"
    },
    "language_info": {
      "name": "python"
    }
  },
  "cells": [
    {
      "cell_type": "markdown",
      "metadata": {
        "id": "view-in-github",
        "colab_type": "text"
      },
      "source": [
        "<a href=\"https://colab.research.google.com/github/Hadalins/Aulas-Programa-o/blob/main/vetores.ipynb\" target=\"_parent\"><img src=\"https://colab.research.google.com/assets/colab-badge.svg\" alt=\"Open In Colab\"/></a>"
      ]
    },
    {
      "cell_type": "code",
      "execution_count": 7,
      "metadata": {
        "colab": {
          "base_uri": "https://localhost:8080/"
        },
        "id": "7yeNoNOlc7s2",
        "outputId": "99edbc11-9d36-47e6-a977-194792790a24"
      },
      "outputs": [
        {
          "output_type": "stream",
          "name": "stdout",
          "text": [
            "valor de B [2, 4, 6, 8, 10]\n"
          ]
        }
      ],
      "source": [
        "A=[1,2,3,4,5]\n",
        "B= [0] * len(A)\n",
        "for i in range(len(A)):\n",
        "  B[i] = A[i]\n",
        "\n",
        "print('valor de B', B )"
      ]
    },
    {
      "cell_type": "code",
      "source": [
        "A=[1,2,3,4,5,6,7,8]\n",
        "B= [0] * len(A)\n",
        "for i in range(len(A)):\n",
        "  B[i] = A[i] * 2\n",
        "\n",
        "print('valor de B', B )"
      ],
      "metadata": {
        "colab": {
          "base_uri": "https://localhost:8080/"
        },
        "id": "ihxTTXRRfD8E",
        "outputId": "8bbe4bfe-5d8a-4d60-8904-d3b4517e0017"
      },
      "execution_count": 9,
      "outputs": [
        {
          "output_type": "stream",
          "name": "stdout",
          "text": [
            "valor de B [2, 4, 6, 8, 10, 12, 14, 16]\n"
          ]
        }
      ]
    },
    {
      "cell_type": "code",
      "source": [
        "A= [1,2,3,4,5,6,7,8,9,10,11,12,13,14,15]\n",
        "B = [0] * len(A)\n",
        "for i in range(len(A)):\n",
        "  B[i]= A[i] * A[i]\n",
        "print('o valor de B é ', B)\n"
      ],
      "metadata": {
        "colab": {
          "base_uri": "https://localhost:8080/"
        },
        "id": "z5BP30vVfIBN",
        "outputId": "2f60bcb3-7f8a-4fed-c08c-6cf182ddd4ec"
      },
      "execution_count": 10,
      "outputs": [
        {
          "output_type": "stream",
          "name": "stdout",
          "text": [
            "o valor de B é  [1, 4, 9, 16, 25, 36, 49, 64, 81, 100, 121, 144, 169, 196, 225]\n"
          ]
        }
      ]
    },
    {
      "cell_type": "code",
      "source": [
        "import math\n",
        "\n",
        "A = [1,2,3,4,5,6,7,8,9,10,11,12,13,14,15]\n",
        "B = [0] * len(A)\n",
        "for i in range(len(A)):\n",
        "  B[i] = math.sqrt(A[i])\n",
        "  B = [round(x, 2) for x in B]\n",
        "print('O valor de B é : ',B)\n"
      ],
      "metadata": {
        "colab": {
          "base_uri": "https://localhost:8080/"
        },
        "id": "UMuqoQ61f_HE",
        "outputId": "ec3748d9-df93-49d2-e283-039f51af64c5"
      },
      "execution_count": 28,
      "outputs": [
        {
          "output_type": "stream",
          "name": "stdout",
          "text": [
            "O valor de B é :  [1.0, 1.41, 1.73, 2.0, 2.24, 2.45, 2.65, 2.83, 3.0, 3.16, 3.32, 3.46, 3.61, 3.74, 3.87]\n"
          ]
        }
      ]
    },
    {
      "cell_type": "code",
      "source": [
        "a = [1,2,3,4,5,6,7,8,9,10]\n",
        "b =[0] *len(a)\n",
        "for i in range(len(a)):\n",
        "  b[i] = a[i]*i\n",
        "print('O valor de b: ', b)"
      ],
      "metadata": {
        "colab": {
          "base_uri": "https://localhost:8080/"
        },
        "id": "ZT6qKy3ym2y3",
        "outputId": "13dba7db-c66a-4455-9a1f-fcf245c6f27f"
      },
      "execution_count": 29,
      "outputs": [
        {
          "output_type": "stream",
          "name": "stdout",
          "text": [
            "O valor de b:  [0, 2, 6, 12, 20, 30, 42, 56, 72, 90]\n"
          ]
        }
      ]
    }
  ]
}