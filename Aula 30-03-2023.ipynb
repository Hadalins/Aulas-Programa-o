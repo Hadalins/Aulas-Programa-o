{
  "nbformat": 4,
  "nbformat_minor": 0,
  "metadata": {
    "colab": {
      "provenance": [],
      "authorship_tag": "ABX9TyNjO/BZg13FC6GZl5gHq2HV",
      "include_colab_link": true
    },
    "kernelspec": {
      "name": "python3",
      "display_name": "Python 3"
    },
    "language_info": {
      "name": "python"
    }
  },
  "cells": [
    {
      "cell_type": "markdown",
      "metadata": {
        "id": "view-in-github",
        "colab_type": "text"
      },
      "source": [
        "<a href=\"https://colab.research.google.com/github/Hadalins/Aulas-Programa-o/blob/main/Aula%2030-03-2023.ipynb\" target=\"_parent\"><img src=\"https://colab.research.google.com/assets/colab-badge.svg\" alt=\"Open In Colab\"/></a>"
      ]
    },
    {
      "cell_type": "code",
      "execution_count": 6,
      "metadata": {
        "colab": {
          "base_uri": "https://localhost:8080/"
        },
        "id": "paxNF2kkogvj",
        "outputId": "af0708dc-b151-4ff8-b7b3-9ab3e1ad227a"
      },
      "outputs": [
        {
          "output_type": "stream",
          "name": "stdout",
          "text": [
            "True\n",
            "True\n",
            "False\n",
            "True\n",
            "False\n",
            "True\n"
          ]
        }
      ],
      "source": [
        "#tipos booleanos\n",
        "print(100 == (50+50))\n",
        "print(100 >= (50+50))\n",
        "print(100 > (50+50))\n",
        "print(100 <= (50+50))\n",
        "print(100 != (50+50))\n",
        "print(100 != 99)"
      ]
    },
    {
      "cell_type": "code",
      "source": [
        "#Se a idade for maior ou igual a 16, exiba: pode tirar habilitação\n",
        "idade = int(input('Digite a idade: ')) \n",
        "if(idade >= 16):\n",
        "  print('pode tirar habilitação ')\n",
        "else:  \n",
        "  print('ainda não filé ')  "
      ],
      "metadata": {
        "colab": {
          "base_uri": "https://localhost:8080/"
        },
        "id": "ER6r7AarpZtD",
        "outputId": "a3183b34-7ac0-433d-f356-6359246fc48e"
      },
      "execution_count": 9,
      "outputs": [
        {
          "output_type": "stream",
          "name": "stdout",
          "text": [
            "Digite a idade: 18\n",
            "pode tirar habilitação \n"
          ]
        }
      ]
    },
    {
      "cell_type": "code",
      "source": [
        "#Se for do sexo feminino \"F\", e tiver 55 anos ou mais, pode se aposentar \n",
        "#Se for do sexo feminino \"M\", e tiver 60 anos só se aposentar com 60 anos ou mais\n",
        "sexo = 'M'\n",
        "idade = 68\n",
        "if(sexo == 'F' and idade >=55):\n",
        "  print('Pode se aposentar')\n",
        "elif(sexo == 'M' and idade >=60):\n",
        "  print('Pode se aposentar') \n",
        "else:\n",
        "  print('Ainda não pode')   "
      ],
      "metadata": {
        "colab": {
          "base_uri": "https://localhost:8080/"
        },
        "id": "TT7zIS6irmnK",
        "outputId": "0a059aec-87ae-47e5-a3b4-49a867f169b5"
      },
      "execution_count": 11,
      "outputs": [
        {
          "output_type": "stream",
          "name": "stdout",
          "text": [
            "Pode se aposentar\n"
          ]
        }
      ]
    },
    {
      "cell_type": "code",
      "source": [
        "#Se for do sexo feminino \"F\", e tiver 55 anos ou mais, pode se aposentar \n",
        "#Se for do sexo feminino \"M\", e tiver 60 anos só se aposentar com 60 anos ou mais\n",
        "sexo = 'F'\n",
        "idade = 50\n",
        "if((sexo == 'F' and idade >=55) or (sexo == 'M' and idade >=60)):\n",
        "  print('Pode se aposentar') \n",
        "else:\n",
        "   print('Ainda não pode')   "
      ],
      "metadata": {
        "colab": {
          "base_uri": "https://localhost:8080/"
        },
        "id": "Y8_CUN_us-nh",
        "outputId": "f4699fe2-42e9-43be-c8a6-04c0a4b360df"
      },
      "execution_count": 23,
      "outputs": [
        {
          "output_type": "stream",
          "name": "stdout",
          "text": [
            "Ainda não pode\n"
          ]
        }
      ]
    },
    {
      "cell_type": "code",
      "source": [
        "#Se for do sexo feminino \"F\", e tiver 55 anos ou mais, pode se aposentar \n",
        "#Se for do sexo feminino \"M\", e tiver 60 anos só se aposentar com 60 anos ou mais\n",
        "sexo = input('Insira o sexo, m para (masculino) ou f para (feminino): ')\n",
        "idade = int(input('Insira sua idade: '))\n",
        "if((sexo == 'F' and idade >=55) or (sexo == 'M' and idade >=60)):\n",
        "  print('Pode se aposentar') \n",
        "else:\n",
        "   print('Ainda não pode se aposentar')   "
      ],
      "metadata": {
        "colab": {
          "base_uri": "https://localhost:8080/"
        },
        "id": "8byL2q-wu8KW",
        "outputId": "99bded2b-2281-47f8-affb-cfbaf6856f0d"
      },
      "execution_count": 27,
      "outputs": [
        {
          "output_type": "stream",
          "name": "stdout",
          "text": [
            "Insira o sexo, m para (masculino) ou f para (feminino): m\n",
            "Insira sua idade: 36\n",
            "Ainda não pode se aposentar\n"
          ]
        }
      ]
    },
    {
      "cell_type": "code",
      "source": [
        "#\n",
        "\n",
        "A = int(input('digite um numero: '))\n",
        "B = int(input('digite um numero: '))\n",
        "C = int(input('digite um numero: '))\n",
        "if(  A + B < C  ):\n",
        "  print(' É menor ')\n",
        "else:\n",
        "  print('não é menor ' )"
      ],
      "metadata": {
        "colab": {
          "base_uri": "https://localhost:8080/"
        },
        "id": "wq65aaNev7-W",
        "outputId": "f4641099-57b2-41b7-b84a-9a7cd13d24af"
      },
      "execution_count": 31,
      "outputs": [
        {
          "output_type": "stream",
          "name": "stdout",
          "text": [
            "digite um numero: 5\n",
            "digite um numero: 9\n",
            "digite um numero: 17\n",
            " É menor \n"
          ]
        }
      ]
    },
    {
      "cell_type": "code",
      "source": [
        "n1 = int(input('indique um numero: '))\n",
        "n2 = int(input('indique outro numero: '))\n",
        "if(n1 > n2):\n",
        "  print('o numero maior é :', n1) \n",
        "elif(n2 > n1):\n",
        "    print('o numero maior é :', n2)\n",
        "else: \n",
        "  print('os numeros são iguais Bisonho!!!!!')\n"
      ],
      "metadata": {
        "colab": {
          "base_uri": "https://localhost:8080/"
        },
        "id": "muoqlLSfxhs1",
        "outputId": "05f47a32-74ec-45be-df0f-2c1b109f92cc"
      },
      "execution_count": 39,
      "outputs": [
        {
          "output_type": "stream",
          "name": "stdout",
          "text": [
            "indique um numero: 3\n",
            "indique outro numero: 5\n",
            "o numero maior é : 5\n"
          ]
        }
      ]
    }
  ]
}