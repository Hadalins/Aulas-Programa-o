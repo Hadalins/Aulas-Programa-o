{
  "nbformat": 4,
  "nbformat_minor": 0,
  "metadata": {
    "colab": {
      "provenance": [],
      "authorship_tag": "ABX9TyNAdfoXxxeaP4V7Xr5GodcB",
      "include_colab_link": true
    },
    "kernelspec": {
      "name": "python3",
      "display_name": "Python 3"
    },
    "language_info": {
      "name": "python"
    }
  },
  "cells": [
    {
      "cell_type": "markdown",
      "metadata": {
        "id": "view-in-github",
        "colab_type": "text"
      },
      "source": [
        "<a href=\"https://colab.research.google.com/github/Hadalins/Aulas-Programa-o/blob/main/Aula01_Phython.ipynb\" target=\"_parent\"><img src=\"https://colab.research.google.com/assets/colab-badge.svg\" alt=\"Open In Colab\"/></a>"
      ]
    },
    {
      "cell_type": "code",
      "execution_count": null,
      "metadata": {
        "id": "VakMR3pQt3Fr"
      },
      "outputs": [],
      "source": []
    },
    {
      "cell_type": "markdown",
      "source": [
        "Meu primeiro Notebook de Python "
      ],
      "metadata": {
        "id": "MhLEDe9fvoeF"
      }
    },
    {
      "cell_type": "code",
      "source": [
        "print(\"Eu vou programar Geral !!!!\")"
      ],
      "metadata": {
        "colab": {
          "base_uri": "https://localhost:8080/"
        },
        "id": "M8z447YPvtQS",
        "outputId": "38c6539b-54aa-4ceb-965c-b58ab0b17d6e"
      },
      "execution_count": 2,
      "outputs": [
        {
          "output_type": "stream",
          "name": "stdout",
          "text": [
            "Eu vou programar Geral !!!!\n"
          ]
        }
      ]
    },
    {
      "cell_type": "code",
      "source": [
        "#Variaveis \n",
        "nome = \"Hadames Lins\"\n",
        "print (nome)"
      ],
      "metadata": {
        "colab": {
          "base_uri": "https://localhost:8080/"
        },
        "id": "UEuRJkl_waNj",
        "outputId": "16708f92-be0a-434d-95aa-73c616216000"
      },
      "execution_count": 3,
      "outputs": [
        {
          "output_type": "stream",
          "name": "stdout",
          "text": [
            "Hadames Lins\n"
          ]
        }
      ]
    },
    {
      "cell_type": "code",
      "source": [
        "#Operações com Variaveis \n",
        "a = 30\n",
        "b = 25\n",
        "soma = a + b \n",
        "subtracao = a- b\n",
        "divisao = a / b\n",
        "multipli = a * b \n"
      ],
      "metadata": {
        "id": "S8DoVcLzw5yA"
      },
      "execution_count": 5,
      "outputs": []
    },
    {
      "cell_type": "code",
      "source": [
        "print(soma)\n",
        "print(subtracao)\n",
        "print(divisao)\n",
        "print(multipli)"
      ],
      "metadata": {
        "colab": {
          "base_uri": "https://localhost:8080/"
        },
        "id": "BZXfOU4Xx56B",
        "outputId": "74d2769d-5dbd-4079-9af2-2c1c1b9fc1e4"
      },
      "execution_count": 6,
      "outputs": [
        {
          "output_type": "stream",
          "name": "stdout",
          "text": [
            "55\n",
            "5\n",
            "1.2\n",
            "750\n"
          ]
        }
      ]
    },
    {
      "cell_type": "code",
      "source": [
        "#dobro\n",
        "a = 40\n",
        "\n",
        "#média\n",
        "nota1 = 7.2\n",
        "nota2 = 5.3\n",
        "nota3 = 9.0 \n",
        "media = (nota1 + nota2 + nota3) / 3\n",
        "\n",
        "#idade\n",
        "anoatual = 2023\n",
        "anonasc = 1986\n",
        "idade = (anoatual - anonasc)"
      ],
      "metadata": {
        "id": "1403dIYOycKS"
      },
      "execution_count": 14,
      "outputs": []
    },
    {
      "cell_type": "code",
      "source": [
        "print(a * 2)\n",
        "\n",
        "print (media)\n",
        "\n",
        "print(idade) "
      ],
      "metadata": {
        "colab": {
          "base_uri": "https://localhost:8080/"
        },
        "id": "lt2BTwATzOAf",
        "outputId": "67ce39df-9a7b-4725-eb61-f7f7c3aa39df"
      },
      "execution_count": 18,
      "outputs": [
        {
          "output_type": "stream",
          "name": "stdout",
          "text": [
            "80\n",
            "7.166666666666667\n",
            "37\n"
          ]
        }
      ]
    },
    {
      "cell_type": "code",
      "source": [
        "#trabalhando com IMPUTS\n",
        "nome = input('digite seu nome 😉 ')\n",
        "print ('olá ' + nome + '❤')"
      ],
      "metadata": {
        "colab": {
          "base_uri": "https://localhost:8080/"
        },
        "id": "IGytxzuX2l6v",
        "outputId": "a7a7724e-6809-4781-9f4e-762401dce961"
      },
      "execution_count": 29,
      "outputs": [
        {
          "output_type": "stream",
          "name": "stdout",
          "text": [
            "digite seu nome 😉 Hadames\n",
            "olá Hadames❤\n"
          ]
        }
      ]
    },
    {
      "cell_type": "code",
      "source": [
        "#Pede um numero e multiplica por 3\n",
        "#Parse -  \n",
        "num = int(input('digite um numero '))\n",
        "print('Oresultado é ' + num * 3)"
      ],
      "metadata": {
        "colab": {
          "base_uri": "https://localhost:8080/"
        },
        "id": "xVcPPofz4tNQ",
        "outputId": "cc485099-5606-413f-a5f1-5d334124fdc1"
      },
      "execution_count": 40,
      "outputs": [
        {
          "output_type": "stream",
          "name": "stdout",
          "text": [
            "digite um numero 5\n",
            "15\n"
          ]
        }
      ]
    }
  ]
}